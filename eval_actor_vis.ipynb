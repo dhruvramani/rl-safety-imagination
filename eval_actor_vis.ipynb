{
 "cells": [
  {
   "cell_type": "markdown",
   "metadata": {},
   "source": [
    "## Visualize the A2C Agent\n",
    "This notebook is for visualizing the A2C agent playing the pacman game and making sure that model is working. This is not for visualizing the imagination augmented agent. \n",
    "\n",
    "First start off by importing the necessary modules."
   ]
  },
  {
   "cell_type": "code",
   "execution_count": 1,
   "metadata": {
    "collapsed": true
   },
   "outputs": [],
   "source": [
    "import numpy as np\n",
    "import os\n",
    "from a2c import get_actor_critic\n",
    "import env_model\n",
    "from common.minipacman import MiniPacman\n",
    "import tensorflow as tf\n",
    "from IPython.display import clear_output\n",
    "import matplotlib.pyplot as plt\n",
    "%matplotlib inline\n",
    "%load_ext autoreload\n",
    "%autoreload 2"
   ]
  },
  {
   "cell_type": "markdown",
   "metadata": {},
   "source": [
    "Next create our environment. We want don't want to have multiprocessing (hence `nenvs=1`) "
   ]
  },
  {
   "cell_type": "code",
   "execution_count": 2,
   "metadata": {
    "collapsed": false
   },
   "outputs": [
    {
     "name": "stdout",
     "output_type": "stream",
     "text": [
      "\u001b[33mWARN: gym.spaces.Box autodetected dtype as <class 'numpy.float32'>. Please provide explicit dtype.\u001b[0m\n"
     ]
    }
   ],
   "source": [
    "nenvs = 1\n",
    "nsteps=5\n",
    "\n",
    "done = False\n",
    "env = MiniPacman('regular', 1000)\n",
    "ob_space = env.observation_space.shape\n",
    "nw, nh, nc = ob_space\n",
    "ac_space = env.action_space\n",
    "\n",
    "states = env.reset()"
   ]
  },
  {
   "cell_type": "markdown",
   "metadata": {},
   "source": [
    "Helper function to display an image to the Jupyter Notebook so we can see the game being played in our browser"
   ]
  },
  {
   "cell_type": "code",
   "execution_count": 3,
   "metadata": {
    "collapsed": true
   },
   "outputs": [],
   "source": [
    "import time \n",
    "\n",
    "def displayImage(image, step, reward):\n",
    "    clear_output(True)\n",
    "    s = \"step: \" + str(step) + \" reward: \" + str(reward)\n",
    "    plt.figure(figsize=(10,3))\n",
    "    plt.title(s)\n",
    "    plt.imshow(image)\n",
    "    plt.show()\n",
    "    time.sleep(0.1)"
   ]
  },
  {
   "cell_type": "markdown",
   "metadata": {},
   "source": [
    "Load in the saved weights and see the game being played! Replace the weights I saved with whatever you want to use."
   ]
  },
  {
   "cell_type": "code",
   "execution_count": 4,
   "metadata": {
    "collapsed": false
   },
   "outputs": [
    {
     "data": {
      "image/png": "[encoded data removed]",
      "text/plain": [
       "<matplotlib.figure.Figure at 0x120fe9a58>"
      ]
     },
     "metadata": {},
     "output_type": "display_data"
    },
    {
     "name": "stdout",
     "output_type": "stream",
     "text": [
      "total reward 182\n"
     ]
    }
   ],
   "source": [
    "with tf.Session() as sess:\n",
    "    actor_critic = get_actor_critic(sess, nenvs, nsteps, ob_space, ac_space)\n",
    "    actor_critic.load('/Users/andrewszot/Downloads/weights/model_100000.ckpt')\n",
    "\n",
    "    total_reward = 0\n",
    "    step = 0\n",
    "\n",
    "    while not done:\n",
    "        states = np.expand_dims(states, 0)\n",
    "        actions, values, _ = actor_critic.act(states)\n",
    "\n",
    "        states, reward, done, _ = env.step(actions[0])\n",
    "\n",
    "        total_reward += reward\n",
    "        \n",
    "        displayImage(states, step, total_reward)\n",
    "        step += 1\n",
    "\n",
    "    print('total reward', total_reward)"
   ]
  }
 ],
 "metadata": {
  "anaconda-cloud": {},
  "kernelspec": {
   "display_name": "Python 3",
   "language": "python",
   "name": "python3"
  },
  "language_info": {
   "codemirror_mode": {
    "name": "ipython",
    "version": 3
   },
   "file_extension": ".py",
   "mimetype": "text/x-python",
   "name": "python",
   "nbconvert_exporter": "python",
   "pygments_lexer": "ipython3",
   "version": "3.6.0"
  }
 },
 "nbformat": 4,
 "nbformat_minor": 2
}
